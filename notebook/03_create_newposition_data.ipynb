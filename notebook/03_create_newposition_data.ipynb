{
 "cells": [
  {
   "cell_type": "code",
   "execution_count": 1,
   "metadata": {},
   "outputs": [],
   "source": [
    "import numpy as np\n",
    "import pandas as pd\n",
    "import json\n",
    "import matplotlib.pyplot as plt\n",
    "from copy import deepcopy\n",
    "import dataclasses\n",
    "\n",
    "from xopen import xopen\n",
    "\n",
    "import sys\n",
    "sys.path.append(\"../src\")\n",
    "from lost_in_the_middle.prompting import (\n",
    "    Document,\n",
    "    get_closedbook_qa_prompt,\n",
    "    get_qa_prompt,\n",
    ")"
   ]
  },
  {
   "cell_type": "code",
   "execution_count": 2,
   "metadata": {},
   "outputs": [],
   "source": [
    "new_gold_index = 2\n",
    "\n",
    "# Open the JSONL file\n",
    "with xopen('../qa_data/10_total_documents/nq-open-10_total_documents_gold_at_2.jsonl.gz', 'w') as new_jsonl_file:\n",
    "    with xopen('../qa_data/10_total_documents/nq-open-10_total_documents_gold_at_0.jsonl.gz', 'r') as jsonl_file:\n",
    "        # Read the file line by line\n",
    "        for line in jsonl_file:\n",
    "            # Parse each line as a JSON object and append it to the list\n",
    "            input_example = json.loads(line)\n",
    "            \n",
    "            documents = []\n",
    "            for ctx in deepcopy(input_example[\"ctxs\"]):\n",
    "                documents.append(Document.from_dict(ctx))\n",
    "\n",
    "            (original_gold_index,) = [idx for idx, doc in enumerate(documents) if doc.isgold is True]\n",
    "            original_gold_document = documents[original_gold_index]\n",
    "\n",
    "            new_documents = documents[original_gold_index + 1: new_gold_index + 1] + [documents[original_gold_index]] + documents[new_gold_index + 1:]\n",
    "\n",
    "            assert len(new_documents) == len(documents)\n",
    "            assert len(set(new_documents)) == len(set(documents))\n",
    "            assert new_documents[new_gold_index].isgold is True\n",
    "\n",
    "            input_example[\"ctxs\"] = [dataclasses.asdict(document) for document in new_documents]\n",
    "\n",
    "            # Write the new JSONL file\n",
    "            new_jsonl_file.write(json.dumps(input_example) + \"\\n\")\n",
    "            \n",
    "            \n",
    "\n",
    "        \n",
    "        \n",
    "        "
   ]
  },
  {
   "cell_type": "code",
   "execution_count": 3,
   "metadata": {},
   "outputs": [],
   "source": [
    "new_gold_index = 7\n",
    "\n",
    "# Open the JSONL file\n",
    "with xopen('../qa_data/10_total_documents/nq-open-10_total_documents_gold_at_7.jsonl.gz', 'w') as new_jsonl_file:\n",
    "    with xopen('../qa_data/10_total_documents/nq-open-10_total_documents_gold_at_0.jsonl.gz', 'r') as jsonl_file:\n",
    "        # Read the file line by line\n",
    "        for line in jsonl_file:\n",
    "            # Parse each line as a JSON object and append it to the list\n",
    "            input_example = json.loads(line)\n",
    "            \n",
    "            documents = []\n",
    "            for ctx in deepcopy(input_example[\"ctxs\"]):\n",
    "                documents.append(Document.from_dict(ctx))\n",
    "\n",
    "            (original_gold_index,) = [idx for idx, doc in enumerate(documents) if doc.isgold is True]\n",
    "            original_gold_document = documents[original_gold_index]\n",
    "\n",
    "            new_documents = documents[original_gold_index + 1: new_gold_index + 1] + [documents[original_gold_index]] + documents[new_gold_index + 1:]\n",
    "\n",
    "            assert len(new_documents) == len(documents)\n",
    "            assert len(set(new_documents)) == len(set(documents))\n",
    "            assert new_documents[new_gold_index].isgold is True\n",
    "\n",
    "            input_example[\"ctxs\"] = [dataclasses.asdict(document) for document in new_documents]\n",
    "\n",
    "            # Write the new JSONL file\n",
    "            new_jsonl_file.write(json.dumps(input_example) + \"\\n\")\n",
    "            \n",
    "            \n",
    "\n",
    "        \n",
    "        \n",
    "        "
   ]
  },
  {
   "cell_type": "code",
   "execution_count": null,
   "metadata": {},
   "outputs": [],
   "source": []
  }
 ],
 "metadata": {
  "kernelspec": {
   "display_name": "base",
   "language": "python",
   "name": "python3"
  },
  "language_info": {
   "codemirror_mode": {
    "name": "ipython",
    "version": 3
   },
   "file_extension": ".py",
   "mimetype": "text/x-python",
   "name": "python",
   "nbconvert_exporter": "python",
   "pygments_lexer": "ipython3",
   "version": "3.9.7"
  }
 },
 "nbformat": 4,
 "nbformat_minor": 2
}
