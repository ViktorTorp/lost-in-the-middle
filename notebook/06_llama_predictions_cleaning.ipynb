{
 "cells": [
  {
   "cell_type": "code",
   "execution_count": 1,
   "metadata": {},
   "outputs": [],
   "source": [
    "import pandas as pd\n",
    "import json\n",
    "from xopen import xopen\n"
   ]
  },
  {
   "cell_type": "code",
   "execution_count": 2,
   "metadata": {},
   "outputs": [],
   "source": [
    "predctions_path = \"../qa_predictions/20_total_documents/\""
   ]
  },
  {
   "cell_type": "code",
   "execution_count": 3,
   "metadata": {},
   "outputs": [],
   "source": [
    "llama_regular = predctions_path + \"gpt/\"\n",
    "file_names = [f\"{llama_regular}nq-open-20_total_documents_gold_at_{i}-gpt-35-reorder-predictions.jsonl.gz\" for i in [0,4,9,14,19]]"
   ]
  },
  {
   "cell_type": "code",
   "execution_count": 4,
   "metadata": {},
   "outputs": [],
   "source": [
    "position_0 = file_names[0]\n",
    "position_4 = file_names[1]\n",
    "position_9 = file_names[2]\n",
    "position_14 = file_names[3]\n",
    "position_19 = file_names[4]\n"
   ]
  },
  {
   "cell_type": "code",
   "execution_count": 7,
   "metadata": {},
   "outputs": [
    {
     "name": "stdout",
     "output_type": "stream",
     "text": [
      "2655\n",
      "2655\n",
      "2655\n",
      "2655\n",
      "2655\n"
     ]
    }
   ],
   "source": [
    "predictions = []\n",
    "for file in file_names:\n",
    "    data = []\n",
    "    with xopen(file, \"r\") as f:\n",
    "        for line in f:\n",
    "            try:\n",
    "                data.append(json.loads(line))\n",
    "            except:\n",
    "                print(line[:10])\n",
    "    print(len(data))\n",
    "    predictions.append(data)"
   ]
  },
  {
   "cell_type": "code",
   "execution_count": 8,
   "metadata": {},
   "outputs": [
    {
     "name": "stdout",
     "output_type": "stream",
     "text": [
      "../qa_predictions/20_total_documents/gpt/nq-open-20_total_documents_gold_at_0-gpt-35-reorder-predictions.jsonl.gz\n",
      "../qa_predictions/20_total_documents/gpt/nq-open-20_total_documents_gold_at_4-gpt-35-reorder-predictions.jsonl.gz\n",
      "../qa_predictions/20_total_documents/gpt/nq-open-20_total_documents_gold_at_9-gpt-35-reorder-predictions.jsonl.gz\n",
      "../qa_predictions/20_total_documents/gpt/nq-open-20_total_documents_gold_at_14-gpt-35-reorder-predictions.jsonl.gz\n",
      "../qa_predictions/20_total_documents/gpt/nq-open-20_total_documents_gold_at_19-gpt-35-reorder-predictions.jsonl.gz\n"
     ]
    }
   ],
   "source": [
    "for i in range(len(predictions)):\n",
    "    file = file_names[i]\n",
    "    print(file)\n",
    "    data = predictions[i]\n",
    "    with xopen(file, \"w\") as clean_json:\n",
    "        for input_example in list(data)[:2655]:\n",
    "            clean_json.write(json.dumps(input_example) + \"\\n\")\n",
    "\n"
   ]
  },
  {
   "cell_type": "code",
   "execution_count": 9,
   "metadata": {},
   "outputs": [
    {
     "name": "stdout",
     "output_type": "stream",
     "text": [
      "../qa_predictions/20_total_documents/gpt/nq-open-20_total_documents_gold_at_4-gpt-35-reorder-predictions.jsonl.gz\n"
     ]
    }
   ],
   "source": [
    "file = file_names[1]\n",
    "print(file)\n",
    "data = predictions[1]\n",
    "with xopen(file, \"w\") as clean_json:\n",
    "    for input_example in list(data)[:2655]:\n",
    "        clean_json.write(json.dumps(input_example) + \"\\n\")\n",
    "\n"
   ]
  },
  {
   "cell_type": "code",
   "execution_count": 11,
   "metadata": {},
   "outputs": [
    {
     "name": "stdout",
     "output_type": "stream",
     "text": [
      "data 0: 2655\n",
      "data 1: 2695\n",
      "data 2: 2655\n",
      "data 3: 2655\n",
      "data 4: 2655\n"
     ]
    }
   ],
   "source": [
    "all_questions = set()\n",
    "for i, dataset in enumerate(predictions):\n",
    "    tmp = set()\n",
    "    for d in dataset:\n",
    "        small_dict = {\"question\": d[\"question\"], \"ctxs\": d[\"ctxs\"]}\n",
    "        tmp.add(json.dumps(small_dict))\n",
    "        all_questions.add(d[\"question\"])\n",
    "    print(f\"data {i}: {len(tmp)}\")"
   ]
  },
  {
   "cell_type": "code",
   "execution_count": 12,
   "metadata": {},
   "outputs": [
    {
     "data": {
      "text/plain": [
       "2655"
      ]
     },
     "execution_count": 12,
     "metadata": {},
     "output_type": "execute_result"
    }
   ],
   "source": [
    "len(all_questions)"
   ]
  },
  {
   "cell_type": "markdown",
   "metadata": {},
   "source": [
    "# Find missing question and add responses"
   ]
  },
  {
   "cell_type": "code",
   "execution_count": 129,
   "metadata": {},
   "outputs": [],
   "source": [
    "import sys\n",
    "import time\n",
    "from copy import deepcopy\n",
    "import dataclasses\n",
    "from huggingface_hub import InferenceClient\n",
    "\n",
    "sys.path.append(\"../src\")"
   ]
  },
  {
   "cell_type": "code",
   "execution_count": 130,
   "metadata": {},
   "outputs": [],
   "source": [
    "from lost_in_the_middle.prompting import get_qa_prompt, Document"
   ]
  },
  {
   "cell_type": "code",
   "execution_count": 131,
   "metadata": {},
   "outputs": [
    {
     "name": "stdout",
     "output_type": "stream",
     "text": [
      "2653\n",
      "2655 2653\n"
     ]
    },
    {
     "data": {
      "text/plain": [
       "{'when did computer become widespread in homes and schools',\n",
       " 'when was as you like it first performed'}"
      ]
     },
     "execution_count": 131,
     "metadata": {},
     "output_type": "execute_result"
    }
   ],
   "source": [
    "# Find missing questions\n",
    "tmp_qa_set = set()\n",
    "for d in predictions[1]:\n",
    "    tmp_qa_set.add(d[\"question\"])\n",
    "print(len(tmp_qa_set))\n",
    "with xopen(f\"../qa_data/20_total_documents/nq-open-20_total_documents_gold_at_4.jsonl.gz\", \"r\") as f:\n",
    "    original_qa_set = set()\n",
    "    data_dict = {}\n",
    "    for line in f:\n",
    "        data = json.loads(line)\n",
    "        data_dict[f\"{data['question']}\"] = data\n",
    "        original_qa_set.add(data[\"question\"])\n",
    "    \n",
    "# Find missing questions\n",
    "print(len(original_qa_set), len(tmp_qa_set))\n",
    "missing_questions = original_qa_set - tmp_qa_set\n",
    "missing_questions"
   ]
  },
  {
   "cell_type": "code",
   "execution_count": 132,
   "metadata": {},
   "outputs": [],
   "source": [
    "missing_data = [data_dict[missing] for missing in missing_questions]"
   ]
  },
  {
   "cell_type": "code",
   "execution_count": 133,
   "metadata": {},
   "outputs": [],
   "source": [
    "HF_HUB_MODELS = {\n",
    "    \"llama-2-70b\": \"meta-llama/Llama-2-70b-chat-hf\",\n",
    "    \"llama-2-13b\": \"meta-llama/Llama-2-13b-chat-hf\",\n",
    "    \"llama-2-7b\": \"meta-llama/Llama-2-7b-chat-hf\",\n",
    "}\n",
    "HUGGINGFACEHUB_API_TOKEN = \"YOUR_TOKEN\""
   ]
  },
  {
   "cell_type": "code",
   "execution_count": 134,
   "metadata": {},
   "outputs": [
    {
     "name": "stdout",
     "output_type": "stream",
     "text": [
      "0\n",
      "  Based on the provided search results, it appears that computers started becoming widespread in homes and schools in the late 1970s to early 1980s. Here are some key points from the search results:\n",
      "\n",
      "1. In 1975, Apple Inc. began donating Apple 1 models to schools, marking the beginning of home computing (Document [3](Title: Computers in the classroom)).\n",
      "2. By \n",
      "0\n",
      "  Based on the provided documents, it seems that \"As You Like It\" was first performed in the early 17th century, with the exact date of performance being uncertain.\n",
      "\n",
      "Document [1](Title: As You Like It) states that the play was performed at the Old Vic Theatre in 1936, starring Laurence Olivier as Orlando and Elisabeth Bergner as Rosalind. However, this document does not provide any information about the play's\n",
      "  Based on the provided search results, it appears that computers started becoming widespread in homes and schools in the late 1970s to early 1980s. Here are some key points from the search results:\n",
      "\n",
      "1. In 1975, Apple Inc. began donating Apple 1 models to schools, marking the beginning of home computing (Document [3](Title: Computers in the classroom)).\n",
      "2. By \n",
      "<s>[INST] <<SYS>>\n",
      "Write a high-quality answer for the given question using only the provided search results (some of which might be irrelevant).\n",
      "<</SYS>>\n",
      "\n",
      "Question: when did computer become widespread in homes and schools\n",
      "\n",
      "Document [1](Title: Computers in the classroom) schools became a major issue, leaving many teachers unable to provide enough computers for students to use. Despite this, by 1989 computer usage shifted from being a relative rarity in American public schools, to being present in nearly every school district. The early 1990s marked the beginning of modern media technology such as CD-ROMs as well as the development of modern presentation software such as Microsoft PowerPoint. Other computer-based technology including the electronic whiteboard and the laptop computer became widely available to students. In 1990, the Methodist Ladies' College became the first campus to require every student to purchase a\n",
      "Document [2](Title: Computers in the classroom) 13% of the nation's public high schools used computers for instruction, although non-users still outnumbered users at a ratio of 2 to 1. The study also concluded that computers proved to be very popular with students, and that applications run on early models included sports statistic managers, administration tools, and physics simulators. In 1975, Apple Inc. began donating Apple 1 model computers to schools, and mainframes began to lose their former dominance over academic research. Computer usage continued to grow rapidly throughout this era. In 1977, it was estimated that over 90% of students at Dartmouth College had used computers\n",
      "Document [3](Title: Participatory culture) not enough to ensure youth and adults learn how to use the tools effectively. Most American youths now have at least minimal access to networked computers, be it at school or in public libraries, but \"children who have access to home computers demonstrate more positive attitudes towards computers, show more enthusiasm, and report more enthusiast and ease when using computer than those who do not (Page 8 Wartella, O'Keefe, and Scantlin (2000)). As the children with more access to computers gain more comfort in using them, the less tech-savvy students get pushed aside. It is important to note that it\n",
      "Document [4](Title: Computer literacy) computers have made Numbers more flexible to some extent. In the United Kingdom, the BBC Computer Literacy Project and the BBC Micro, which ran from 1980 to 1989, educated a generation of coders in schools and at home, prior to the development of mass market PCs in the 1990s. The ZX Spectrum, released in 1982, helped to popularize home computing, coding and gaming in Britain and was also popular in other countries. On development, many computers have long since evolved to use data computing, and now use computers in three standard ways: batch, online, and real-time. Reading and writing are\n",
      "Document [5](Title: Home computer) Home computers were a class of microcomputers entering the market in 1977, and becoming common during the 1980s.  They were marketed to consumers as affordable and accessible computers that, for the first time, were intended for the use of a single nontechnical user. These computers were a distinct market segment that typically cost much less than business, scientific or engineering-oriented computers of the time such as the IBM PC, and were generally less powerful in terms of memory and expandability. However, a home computer often had better graphics and sound than contemporary business computers. Their most common uses were playing\n",
      "Document [6](Title: Computers in the classroom) continuing support of government funding, the prevalence of educational computer usage boomed during this era. Between 1997 and 1999, the ratio of students to multimedia computers decreased from 21 students per machine to less than 10 students per machine. Colleges began creating specialized classrooms designed to provide students with access to the utilization of the most modern technology available. Classrooms such as the \"Classroom 2000\" built at Georgia Tech in 1999 which featured computers with audio and video equipment designed to capture detailed recordings of lectures as a replacement for traditional note taking began to become more common. By 2000,\n",
      "Document [7](Title: Computers in the classroom) is not simply about typical concepts or facts as laid out in school curricula. Instead, it is about the process of building connections As a result, the awareness of the importance and the value of communication is becoming instilled into children. Today, with a single laptop, Webcam, projector, and an Internet connection, a teacher can broadcast and begin collaboration with any other classroom. As groups of learners coalesce around shared passions online, they experience something that is difficult to replicate in physical space. Classroom computer access to Web 2.0 applications such as online learning communities and interactive educational tools offer\n",
      "Document [8](Title: Computers in the classroom) laptop. Governments around the world began to take notice of the effectiveness of this policy, and began financial initiatives to significantly increase the use of laptop computers in other colleges as well. In 1996, Bill Clinton made over $2 billion in grants available in the Technology Literacy Challenge Fund, a program which challenged schools to make computers available to every student, connected to the outside world, and engaging. This marked a significant increase in the demand for computer technology in many public school systems throughout the globe. Correlating with the development of modern operating systems like Windows 98 and the\n",
      "Document [9](Title: Computers in the classroom) Computers in the classroom Computers in the classroom include any digital technology used to enhance, supplement, or replace a traditional educational curriculum. As computers have become more accessible, inexpensive, and powerful, the demand for this technology has increased, leading to more frequent use of computer resources within classes, and a decrease in the student-to-computer ratio within schools. College campuses used computer mainframes in education since the initial days of this technology, and throughout the initial development of computers. The earliest large-scale study of educational computer usage conducted for the National Science Foundation by The American Institute for Research concluded that\n",
      "Document [10](Title: Information and communications technology) classroom. As technology evolved and became more widely used, efforts in Sub-Saharan Africa were also expanded. In the 1990s a massive effort to push computer hardware and software into schools was undertaken, with the goal of familiarizing both students and teachers with computers in the classroom. Since then, multiple projects have endeavored to continue the expansion of ICT's reach in the region, including the One Laptop Per Child (OLPC) project, which by 2015 had distributed over 2.4 million laptops to nearly 2 million students and teachers. The inclusion of ICT in the classroom, often referred to as M-Learning, has expanded\n",
      "Document [11](Title: Computers in the classroom) the student to computer ratio at some schools in the US decreased to only 5 students per school computer. As collaborative classroom environments became mainstream, more schools as a whole began to invest in powerful networks and faster Internet connections. By 2010, many school districts implemented or encouraged \"1:1 learning programs\" which would ensure that all students in grade school would be provided with a personal laptop. Computers have significantly changed traditional teaching methodology into a more \"hands-on\" approach, with Forbes predicting that, \"Instead of parking themselves in a lecture hall for hours, students will work in collaborative spaces, where\n",
      "Document [12](Title: Home computer) may be the sales outlet through which they are purchased. Another change from the home computer era is that the once-common endeavour of writing one's own software programs has almost vanished from home computer use. As early as 1965, some experimental projects such as Jim Sutherland's explored the possible utility of a computer in the home. In 1969, the Honeywell Kitchen Computer was marketed as a luxury gift item, and would have inaugurated the era of home computing, but none were sold. Computers became affordable for the general public in the 1970s due to the mass production of the microprocessor\n",
      "Document [13](Title: David F. Duncan) on computers in health education offered at any college. In 1980, he and Gold published two papers that spurred interest in the use of computers in health education. One of these papers was the first publication to suggest that microprocessors, as personal computers were then known, could be preferable to mainframe terminals for use in computer assisted learning. A few years later, Duncan and Gold, then at Southern Illinois University, taught the nation’s first college-level course on PC-based methods in education. Three years later, Duncan argued for the value of portable computers, which were just being introduced, for educational and\n",
      "Document [14](Title: Computer literacy) which impeded the development of computer writing. Students whose major is computer science will also improve their reading and writing skills if they can enhance the introduction and use of computer literacy. Computers will also be further developed. The government published a 'digital skills strategy' in 2017. In the United States, students are introduced to tablet computers in preschool or kindergarten. Tablet computers are preferred for their small size and touchscreens. The touch user interface of a tablet computer is more accessible to the under-developed motor skills of young children. Early childhood educators use student-centered instruction to guide the young\n",
      "Document [15](Title: Ellen Wartella) held two years prior to that of the more recent. Wartella revealed that from 2012 to 2014, the number of preschool teachers with tablet computers in their classrooms nearly doubled, rising from 29 to 55 percent. More than half of the teachers with tablets said they used the computers to help teach students while three-quarters of them said they used them for administrative tasks, such as emailing parents. There isn't a consensus on how to use these technologies in preschools, with young children and their developing brains, in developmentally appropriate ways, she said. After years of researching the use of\n",
      "Document [16](Title: One-to-one computing) in their Schools as in their homes.\" By 2009 all 300.000 students were equipped with hardware and all schools had WiFi. By 2013 use of Google-drive and apps were added to CREA and By 2015 95% of urban schools had fibre-optic connections. By 2016 Chromebooks were added to the available hardware. Since the original hardware was Fedora based Uruguay has held the top-spot of Linux uptake for years, according to statcounter. 1:1 Programs in US schools have gained serious momentum somewhere around 2016/2017. In February 2017 edtechmagazine reported more than 50% of teachers reported using 1:1 computing. In March 2017\n",
      "Document [17](Title: Ronald Anderson) and science regarding their use of computers in teaching.[29] They found that in 1978, before the release of the PC, half of the teachers used computers in their classes and the social context and social attributes of the teachers determined computer utilization. In 1982, then U.S. Congressman Al Gore invited Anderson to participate in the “Computers and Education Hearings” of the Subcommittee on Investigations and Oversight of the House Science and Technology Committee in Washington, D.C., on September 29, 1983. The full Statement of Dr. Ronald E. Anderson before the Subcommittee can be downloaded from the ACM Digital Library. The\n",
      "Document [18](Title: Home computer) to vanish by the early 1990s in the US. In Europe, the home computer remained a distinct presence for a few years more, with the low-end models of the 16-bit Amiga and Atari ST families being the dominant players, but by the mid-1990s even the European market had dwindled. The Dutch government even ran a program that allowed businesses to sell computers tax-free to its employees, often accompanied by home training programs. Naturally, these businesses chose to equip their employees with the same systems they themselves were using. Today a computer bought for home use anywhere will be very similar\n",
      "Document [19](Title: Home computer) for the World Wide Web to provide a compelling reason for most people to want a computer in their homes. Separate 1998 studies found that 75% of Americans with Internet access accessed primarily from home and that not having Internet access at home inhibited Internet use. Predicted aspects of the revolution were left by the wayside or modified in the face of an emerging reality. The cost of electronics dropped precipitously and today many families have a computer for each family member, or a laptop for mom's active lifestyle, a desktop for dad with the kids sharing a computer. Encyclopedias,\n",
      "Document [20](Title: History of computing hardware (1960s–present)) of the day. They were designed for fun and educational purposes, not so much for practical use. And although you could use some simple office/productivity applications on them, they were generally used by computer enthusiasts for learning to program and for running computer games, for which the personal computers of the period were less suitable and much too expensive. For the more technical hobbyists home computers were also used for electronics interfacing, such as controlling model railroads, and other general hobbyist pursuits. The advent of the microprocessor and solid-state memory made home computing affordable. Early hobby microcomputer systems such as\n",
      "\n",
      "Question: when did computer become widespread in homes and schools\n",
      "Answer: [/INST]\n"
     ]
    }
   ],
   "source": [
    "output_path = file_names[1]\n",
    "model_name = \"llama-2-7b\"\n",
    "llm = InferenceClient(\n",
    "        model=HF_HUB_MODELS[model_name],\n",
    "        token=HUGGINGFACEHUB_API_TOKEN,\n",
    "    )\n",
    "\n",
    "# Get results from the missing data\n",
    "prompts = []\n",
    "examples = []\n",
    "all_model_documents = []\n",
    "for input_example in list(missing_data):\n",
    "    # Get the prediction for the input example\n",
    "    question = input_example[\"question\"]\n",
    "\n",
    "    documents = []\n",
    "    for ctx in deepcopy(input_example[\"ctxs\"]):\n",
    "        documents.append(Document.from_dict(ctx))\n",
    "    if not documents:\n",
    "        raise ValueError(f\"Did not find any documents for example: {input_example}\")\n",
    "\n",
    "    \n",
    "    prompt = get_qa_prompt(\n",
    "        question,\n",
    "        documents,\n",
    "        mention_random_ordering=False,\n",
    "        query_aware_contextualization=True,\n",
    "        cot_prompting=False,\n",
    "        chain_prompting=False,\n",
    "        tot_prompting=False,\n",
    "        llama_prompting=True,\n",
    "    )\n",
    "\n",
    "    \n",
    "    prompts.append(prompt)\n",
    "    examples.append(deepcopy(input_example))\n",
    "    all_model_documents.append(documents)\n",
    "\n",
    "responses = []\n",
    "missing_responses = []\n",
    "with xopen(output_path, \"a\") as f:\n",
    "    for i in range(len(prompts)):\n",
    "        response = \"\"\n",
    "        example, model_documents, prompt = examples[i], all_model_documents[i], prompts[i]\n",
    "        count = 0\n",
    "        sleep_time = 1\n",
    "        while len(response) == 0 and count < 5:\n",
    "            try:\n",
    "                response = llm.text_generation(prompt, max_new_tokens=100, temperature=0.6)\n",
    "            except Exception as e:\n",
    "                time.sleep(sleep_time)\n",
    "                count += 1\n",
    "                sleep_time *= 2\n",
    "        if len(response) == 0:\n",
    "            missing_responses.append(prompt)\n",
    "            response = \"Error generating response\"\n",
    "        else:\n",
    "            responses.append(response)\n",
    "\n",
    "        print(len(missing_responses))\n",
    "        print(response)\n",
    "        output_example = deepcopy(example)\n",
    "        # Add some extra metadata to the output example\n",
    "        output_example[\"model_prompt\"] = prompt\n",
    "        output_example[\"model_documents\"] = [dataclasses.asdict(document) for document in model_documents]\n",
    "        output_example[\"model_answer\"] = response\n",
    "        output_example[\"model\"] = model_name\n",
    "        output_example[\"model_temperature\"] = 0.6\n",
    "        output_example[\"model_top_p\"] = 0\n",
    "        output_example[\"model_prompt_mention_random_ordering\"] = False\n",
    "        output_example[\"model_use_random_ordering\"] = False\n",
    "        f.write(json.dumps(output_example) + \"\\n\")\n",
    "print(responses[0])\n",
    "print(prompts[0])"
   ]
  },
  {
   "cell_type": "code",
   "execution_count": 136,
   "metadata": {},
   "outputs": [
    {
     "data": {
      "text/plain": [
       "['  Based on the provided search results, it appears that computers started becoming widespread in homes and schools in the late 1970s to early 1980s. Here are some key points from the search results:\\n\\n1. In 1975, Apple Inc. began donating Apple 1 models to schools, marking the beginning of home computing (Document [3](Title: Computers in the classroom)).\\n2. By ',\n",
       " '  Based on the provided documents, it seems that \"As You Like It\" was first performed in the early 17th century, with the exact date of performance being uncertain.\\n\\nDocument [1](Title: As You Like It) states that the play was performed at the Old Vic Theatre in 1936, starring Laurence Olivier as Orlando and Elisabeth Bergner as Rosalind. However, this document does not provide any information about the play\\'s']"
      ]
     },
     "execution_count": 136,
     "metadata": {},
     "output_type": "execute_result"
    }
   ],
   "source": [
    "responses"
   ]
  },
  {
   "cell_type": "code",
   "execution_count": null,
   "metadata": {},
   "outputs": [],
   "source": []
  }
 ],
 "metadata": {
  "kernelspec": {
   "display_name": "base",
   "language": "python",
   "name": "python3"
  },
  "language_info": {
   "codemirror_mode": {
    "name": "ipython",
    "version": 3
   },
   "file_extension": ".py",
   "mimetype": "text/x-python",
   "name": "python",
   "nbconvert_exporter": "python",
   "pygments_lexer": "ipython3",
   "version": "3.9.7"
  }
 },
 "nbformat": 4,
 "nbformat_minor": 2
}
