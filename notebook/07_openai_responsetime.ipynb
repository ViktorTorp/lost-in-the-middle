{
 "cells": [
  {
   "cell_type": "code",
   "execution_count": 1,
   "metadata": {},
   "outputs": [],
   "source": [
    "import openai"
   ]
  },
  {
   "cell_type": "code",
   "execution_count": 2,
   "metadata": {},
   "outputs": [],
   "source": [
    "api_key = \"YOUR_API_KEY\"\n"
   ]
  },
  {
   "cell_type": "code",
   "execution_count": 3,
   "metadata": {},
   "outputs": [],
   "source": [
    "response = openai.ChatCompletion.create(\n",
    "                    model=\"gpt-3.5-turbo-0613\",\n",
    "                    messages=[\n",
    "                        {\"role\": \"system\", \"content\": \"Why is this so slow?\"},\n",
    "                    ],\n",
    "                    max_tokens=100,\n",
    "                    top_p=1,\n",
    "                    api_key=api_key\n",
    "                )"
   ]
  },
  {
   "cell_type": "code",
   "execution_count": 4,
   "metadata": {},
   "outputs": [
    {
     "data": {
      "text/plain": [
       "<OpenAIObject chat.completion id=chatcmpl-8HsHgMqYrf7vsqck52jwy8PnZ0m6H at 0x7fefbd6b16d0> JSON: {\n",
       "  \"id\": \"chatcmpl-8HsHgMqYrf7vsqck52jwy8PnZ0m6H\",\n",
       "  \"object\": \"chat.completion\",\n",
       "  \"created\": 1699270936,\n",
       "  \"model\": \"gpt-3.5-turbo-0613\",\n",
       "  \"choices\": [\n",
       "    {\n",
       "      \"index\": 0,\n",
       "      \"message\": {\n",
       "        \"role\": \"assistant\",\n",
       "        \"content\": \"There could be several reasons why something is slow. Some common reasons include:\\n\\n1. Insufficient hardware resources: The device or system may not have enough memory or processing power to perform tasks quickly.\\n2. Large data size: If working with large files or datasets, it can take longer to process or transfer the data.\\n3. Network or internet issues: Slow internet connection or network congestion can result in slow loading or data transfer times.\\n4. Software limitations: Certain software programs or applications may have ineff\"\n",
       "      },\n",
       "      \"finish_reason\": \"length\"\n",
       "    }\n",
       "  ],\n",
       "  \"usage\": {\n",
       "    \"prompt_tokens\": 13,\n",
       "    \"completion_tokens\": 100,\n",
       "    \"total_tokens\": 113\n",
       "  }\n",
       "}"
      ]
     },
     "execution_count": 4,
     "metadata": {},
     "output_type": "execute_result"
    }
   ],
   "source": [
    "response"
   ]
  },
  {
   "cell_type": "code",
   "execution_count": null,
   "metadata": {},
   "outputs": [],
   "source": []
  },
  {
   "cell_type": "code",
   "execution_count": 5,
   "metadata": {},
   "outputs": [],
   "source": [
    "response = openai.ChatCompletion.create(\n",
    "                    model=\"gpt-3.5-turbo-16k-0613\",\n",
    "                    messages=[\n",
    "                        {\"role\": \"system\", \"content\": \"Why is this so slow?\"},\n",
    "                    ],\n",
    "                    max_tokens=100,\n",
    "                    top_p=1,\n",
    "                    api_key=api_key\n",
    "                )"
   ]
  },
  {
   "cell_type": "code",
   "execution_count": null,
   "metadata": {},
   "outputs": [
    {
     "data": {
      "text/plain": [
       "<OpenAIObject chat.completion id=chatcmpl-8HsHgMqYrf7vsqck52jwy8PnZ0m6H at 0x7fefbd6b16d0> JSON: {\n",
       "  \"id\": \"chatcmpl-8HsHgMqYrf7vsqck52jwy8PnZ0m6H\",\n",
       "  \"object\": \"chat.completion\",\n",
       "  \"created\": 1699270936,\n",
       "  \"model\": \"gpt-3.5-turbo-0613\",\n",
       "  \"choices\": [\n",
       "    {\n",
       "      \"index\": 0,\n",
       "      \"message\": {\n",
       "        \"role\": \"assistant\",\n",
       "        \"content\": \"There could be several reasons why something is slow. Some common reasons include:\\n\\n1. Insufficient hardware resources: The device or system may not have enough memory or processing power to perform tasks quickly.\\n2. Large data size: If working with large files or datasets, it can take longer to process or transfer the data.\\n3. Network or internet issues: Slow internet connection or network congestion can result in slow loading or data transfer times.\\n4. Software limitations: Certain software programs or applications may have ineff\"\n",
       "      },\n",
       "      \"finish_reason\": \"length\"\n",
       "    }\n",
       "  ],\n",
       "  \"usage\": {\n",
       "    \"prompt_tokens\": 13,\n",
       "    \"completion_tokens\": 100,\n",
       "    \"total_tokens\": 113\n",
       "  }\n",
       "}"
      ]
     },
     "metadata": {},
     "output_type": "display_data"
    }
   ],
   "source": [
    "response"
   ]
  }
 ],
 "metadata": {
  "kernelspec": {
   "display_name": "base",
   "language": "python",
   "name": "python3"
  },
  "language_info": {
   "codemirror_mode": {
    "name": "ipython",
    "version": 3
   },
   "file_extension": ".py",
   "mimetype": "text/x-python",
   "name": "python",
   "nbconvert_exporter": "python",
   "pygments_lexer": "ipython3",
   "version": "3.9.7"
  }
 },
 "nbformat": 4,
 "nbformat_minor": 2
}
