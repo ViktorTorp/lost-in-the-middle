{
 "cells": [
  {
   "cell_type": "code",
   "execution_count": 1,
   "id": "75f35d6b",
   "metadata": {},
   "outputs": [],
   "source": [
    "import numpy as np\n",
    "import pandas as pd\n",
    "import json\n",
    "import matplotlib.pyplot as plt\n",
    "import pprint\n",
    "from copy import deepcopy\n",
    "\n",
    "import sys\n",
    "sys.path.append(\"../src\")\n",
    "from lost_in_the_middle.prompting import (\n",
    "    Document,\n",
    "    get_closedbook_qa_prompt,\n",
    "    get_qa_prompt,\n",
    ")"
   ]
  },
  {
   "cell_type": "code",
   "execution_count": 2,
   "id": "78541da7",
   "metadata": {},
   "outputs": [],
   "source": [
    "pp = pprint.PrettyPrinter(indent=2)"
   ]
  },
  {
   "cell_type": "code",
   "execution_count": 3,
   "id": "bfa77992",
   "metadata": {},
   "outputs": [
    {
     "name": "stdout",
     "output_type": "stream",
     "text": [
      "\u001b[1m\u001b[36m10_total_documents\u001b[m\u001b[m      \u001b[1m\u001b[36m30_total_documents\u001b[m\u001b[m      nq-open-oracle.jsonl.gz\n",
      "\u001b[1m\u001b[36m20_total_documents\u001b[m\u001b[m      nq-open-oracle.jsonl\n"
     ]
    }
   ],
   "source": [
    "! ls ../qa_data"
   ]
  },
  {
   "cell_type": "code",
   "execution_count": 3,
   "id": "7a646ca7",
   "metadata": {},
   "outputs": [],
   "source": [
    "# Create an empty list to store the dictionaries\n",
    "data_list = []\n",
    "\n",
    "# Open the JSONL file\n",
    "with open('../qa_data/20_total_documents/nq-open-20_total_documents_gold_at_0.jsonl', 'r') as jsonl_file:\n",
    "    # Read the file line by line\n",
    "    for line in jsonl_file:\n",
    "        # Parse each line as a JSON object and append it to the list\n",
    "        data = json.loads(line)\n",
    "        data_list.append(data)\n"
   ]
  },
  {
   "cell_type": "code",
   "execution_count": 6,
   "metadata": {},
   "outputs": [
    {
     "data": {
      "text/plain": [
       "2655"
      ]
     },
     "execution_count": 6,
     "metadata": {},
     "output_type": "execute_result"
    }
   ],
   "source": [
    "len(data_list)"
   ]
  },
  {
   "cell_type": "code",
   "execution_count": 4,
   "id": "dff20f28",
   "metadata": {},
   "outputs": [],
   "source": [
    "all_prompts = []\n",
    "all_questions = [0]\n",
    "all_documents = []\n",
    "all_answers = []\n",
    "\n",
    "for input_example in data_list:\n",
    "    question = input_example[\"question\"]\n",
    "    documents = []\n",
    "    for ctx in deepcopy(input_example[\"ctxs\"]):\n",
    "        documents.append(Document.from_dict(ctx))\n",
    "        \n",
    "    prompt = get_qa_prompt(\n",
    "                question,\n",
    "                documents,\n",
    "                mention_random_ordering=False,\n",
    "                query_aware_contextualization=True,\n",
    "                cot_prompting=False\n",
    "            )\n",
    "    all_prompts.append(prompt)\n",
    "    all_questions.append(question)\n",
    "    all_documents.append(documents)\n",
    "    all_answers.append(input_example[\"answers\"])\n",
    "    "
   ]
  },
  {
   "cell_type": "code",
   "execution_count": 5,
   "metadata": {},
   "outputs": [
    {
     "data": {
      "text/plain": [
       "2655"
      ]
     },
     "execution_count": 5,
     "metadata": {},
     "output_type": "execute_result"
    }
   ],
   "source": [
    "len(all_documents)"
   ]
  },
  {
   "cell_type": "markdown",
   "id": "79e30116",
   "metadata": {},
   "source": [
    "# Answer length distributions"
   ]
  },
  {
   "cell_type": "code",
   "execution_count": 9,
   "id": "d300c9f8",
   "metadata": {},
   "outputs": [
    {
     "data": {
      "text/plain": [
       "[['Wilhelm Conrad Röntgen'],\n",
       " ['May 18, 2018'],\n",
       " ['till September'],\n",
       " ['hit points or health points'],\n",
       " ['Cyrus'],\n",
       " ['Xiu Li Dai', 'Dai Xiuli', 'Dai Yongge', 'Yongge Dai'],\n",
       " ['Super Bowl LII,', '2017'],\n",
       " ['291 episodes', '291'],\n",
       " ['planner Raymond Unwin', 'architect Barry Parker', 'Raymond Unwin'],\n",
       " ['photoreceptor proteins that sense light', 'eyespots']]"
      ]
     },
     "execution_count": 9,
     "metadata": {},
     "output_type": "execute_result"
    }
   ],
   "source": [
    "all_answers[:10]"
   ]
  },
  {
   "cell_type": "code",
   "execution_count": 10,
   "id": "b383f7d1",
   "metadata": {},
   "outputs": [
    {
     "data": {
      "text/plain": [
       "1.7529190207156309"
      ]
     },
     "execution_count": 10,
     "metadata": {},
     "output_type": "execute_result"
    }
   ],
   "source": [
    "answer_lengts = [len(a) for a in all_answers]\n",
    "np.average(answer_lengts)"
   ]
  },
  {
   "cell_type": "code",
   "execution_count": 11,
   "id": "f8d79194",
   "metadata": {},
   "outputs": [
    {
     "data": {
      "text/plain": [
       "Text(0, 0.5, 'Frequency')"
      ]
     },
     "execution_count": 11,
     "metadata": {},
     "output_type": "execute_result"
    },
    {
     "data": {
      "image/png": "[encoded data removed]",
      "text/plain": [
       "<Figure size 432x288 with 1 Axes>"
      ]
     },
     "metadata": {
      "needs_background": "light"
     },
     "output_type": "display_data"
    }
   ],
   "source": [
    "plt.hist(answer_lengts, bins=20, density=False)\n",
    "plt.xlabel(\"Number answers\")\n",
    "plt.ylabel(\"Frequency\")"
   ]
  },
  {
   "cell_type": "markdown",
   "id": "f6655f0b",
   "metadata": {},
   "source": [
    "# Prompts"
   ]
  },
  {
   "cell_type": "code",
   "execution_count": 12,
   "id": "38731d64",
   "metadata": {},
   "outputs": [],
   "source": [
    "from transformers import GPT2Tokenizer"
   ]
  },
  {
   "cell_type": "code",
   "execution_count": 13,
   "id": "7669a10e",
   "metadata": {},
   "outputs": [],
   "source": [
    "tokenizer = GPT2Tokenizer.from_pretrained(\"gpt2\")  # You can use other GPT-2 variants as well"
   ]
  },
  {
   "cell_type": "code",
   "execution_count": 14,
   "id": "d7fd7a90",
   "metadata": {},
   "outputs": [
    {
     "name": "stderr",
     "output_type": "stream",
     "text": [
      "Token indices sequence length is longer than the specified maximum sequence length for this model (2998 > 1024). Running this sequence through the model will result in indexing errors\n"
     ]
    }
   ],
   "source": [
    "tokenized_prompts = []\n",
    "for prompt in all_prompts:\n",
    "    tokenized_text = tokenizer.encode(prompt, add_special_tokens=True)\n",
    "    tokenized_prompts.append(tokenized_text)"
   ]
  },
  {
   "cell_type": "code",
   "execution_count": 15,
   "id": "e0915095",
   "metadata": {},
   "outputs": [],
   "source": [
    "tokenized_prompts_lengths = [len(x) for x in tokenized_prompts]"
   ]
  },
  {
   "cell_type": "code",
   "execution_count": 21,
   "id": "4701f2fc",
   "metadata": {},
   "outputs": [
    {
     "name": "stdout",
     "output_type": "stream",
     "text": [
      "Average number of tokens per prompt: 2906.23\n",
      "Min number of tokens per prompt: 2540.00\n",
      "Max number of tokens per prompt: 3884.00\n",
      "Total number of tokens for all prompts 7716047.00\n"
     ]
    }
   ],
   "source": [
    "print(\"Average number of tokens per prompt: {:.2f}\".format(np.average(tokenized_prompts_lengths)))\n",
    "print(\"Min number of tokens per prompt: {:.2f}\".format(np.min(tokenized_prompts_lengths)))\n",
    "print(\"Max number of tokens per prompt: {:.2f}\".format(np.max(tokenized_prompts_lengths)))\n",
    "print(\"Total number of tokens for all prompts {:.2f}\".format(np.sum(tokenized_prompts_lengths)))"
   ]
  },
  {
   "cell_type": "code",
   "execution_count": 22,
   "id": "a6c68060",
   "metadata": {
    "scrolled": true
   },
   "outputs": [
    {
     "data": {
      "text/plain": [
       "Text(0, 0.5, 'Frequency')"
      ]
     },
     "execution_count": 22,
     "metadata": {},
     "output_type": "execute_result"
    },
    {
     "data": {
      "image/png": "[encoded data removed]",
      "text/plain": [
       "<Figure size 432x288 with 1 Axes>"
      ]
     },
     "metadata": {
      "needs_background": "light"
     },
     "output_type": "display_data"
    }
   ],
   "source": [
    "plt.hist(tokenized_prompts_lengths, bins=20, density=False)\n",
    "plt.xlabel(\"Number tokens\")\n",
    "plt.ylabel(\"Frequency\")"
   ]
  },
  {
   "cell_type": "markdown",
   "id": "16073268",
   "metadata": {},
   "source": [
    "# Prompts"
   ]
  },
  {
   "cell_type": "code",
   "execution_count": 29,
   "id": "28b47f12",
   "metadata": {},
   "outputs": [],
   "source": [
    "tokenizer = GPT2Tokenizer.from_pretrained(\"gpt2\")  # You can use other GPT-2 variants as well"
   ]
  },
  {
   "cell_type": "code",
   "execution_count": 30,
   "id": "e407fead",
   "metadata": {},
   "outputs": [
    {
     "name": "stderr",
     "output_type": "stream",
     "text": [
      "Token indices sequence length is longer than the specified maximum sequence length for this model (1527 > 1024). Running this sequence through the model will result in indexing errors\n"
     ]
    }
   ],
   "source": [
    "tokenized_prompts = []\n",
    "for prompt in all_prompts:\n",
    "    tokenized_text = tokenizer.encode(prompt, add_special_tokens=True)\n",
    "    tokenized_prompts.append(tokenized_text)"
   ]
  },
  {
   "cell_type": "code",
   "execution_count": 31,
   "id": "f13a25ca",
   "metadata": {},
   "outputs": [],
   "source": [
    "tokenized_prompts_lengths = [len(x) for x in tokenized_prompts]"
   ]
  },
  {
   "cell_type": "code",
   "execution_count": 32,
   "id": "b7e31d48",
   "metadata": {},
   "outputs": [
    {
     "name": "stdout",
     "output_type": "stream",
     "text": [
      "Average number of tokens per prompt: 1465.00\n",
      "Min number of tokens per prompt: 1240.00\n",
      "Max number of tokens per prompt: 1963.00\n",
      "Total number of tokens for all prompts 3889583.00\n"
     ]
    }
   ],
   "source": [
    "print(\"Average number of tokens per prompt: {:.2f}\".format(np.average(tokenized_prompts_lengths)))\n",
    "print(\"Min number of tokens per prompt: {:.2f}\".format(np.min(tokenized_prompts_lengths)))\n",
    "print(\"Max number of tokens per prompt: {:.2f}\".format(np.max(tokenized_prompts_lengths)))\n",
    "print(\"Total number of tokens for all prompts {:.2f}\".format(np.sum(tokenized_prompts_lengths)))"
   ]
  },
  {
   "cell_type": "code",
   "execution_count": 33,
   "id": "49961ef9",
   "metadata": {},
   "outputs": [
    {
     "data": {
      "text/plain": [
       "Text(0, 0.5, 'Frequency')"
      ]
     },
     "execution_count": 33,
     "metadata": {},
     "output_type": "execute_result"
    },
    {
     "data": {
      "image/png": "[encoded data removed]",
      "text/plain": [
       "<Figure size 432x288 with 1 Axes>"
      ]
     },
     "metadata": {
      "needs_background": "light"
     },
     "output_type": "display_data"
    }
   ],
   "source": [
    "plt.hist(tokenized_prompts_lengths, bins=20, density=False)\n",
    "plt.xlabel(\"Number tokens\")\n",
    "plt.ylabel(\"Frequency\")"
   ]
  },
  {
   "cell_type": "code",
   "execution_count": 34,
   "id": "1671b64c",
   "metadata": {},
   "outputs": [],
   "source": [
    "a = [1,2,3, 4, 5, 6, 7, 8, 9]\n",
    "gold_idx = 0\n",
    "new_idx = 2\n",
    "new_a = list(a[1:new_idx + 1]) + [a[gold_idx]] + list(a[new_idx + 1:])"
   ]
  },
  {
   "cell_type": "code",
   "execution_count": 35,
   "id": "50236a11",
   "metadata": {},
   "outputs": [
    {
     "data": {
      "text/plain": [
       "(9, 9)"
      ]
     },
     "execution_count": 35,
     "metadata": {},
     "output_type": "execute_result"
    }
   ],
   "source": [
    "len(new_a), len(a)"
   ]
  },
  {
   "cell_type": "code",
   "execution_count": 36,
   "id": "54d8d0dd",
   "metadata": {},
   "outputs": [
    {
     "data": {
      "text/plain": [
       "True"
      ]
     },
     "execution_count": 36,
     "metadata": {},
     "output_type": "execute_result"
    }
   ],
   "source": [
    "len(set(new_a)) == len(new_a) == len(a)"
   ]
  },
  {
   "cell_type": "code",
   "execution_count": 37,
   "id": "6c8ec527",
   "metadata": {},
   "outputs": [
    {
     "data": {
      "text/plain": [
       "[2, 3, 1, 4, 5, 6, 7, 8, 9]"
      ]
     },
     "execution_count": 37,
     "metadata": {},
     "output_type": "execute_result"
    }
   ],
   "source": [
    "new_a"
   ]
  },
  {
   "cell_type": "code",
   "execution_count": null,
   "id": "871a930c",
   "metadata": {},
   "outputs": [],
   "source": []
  }
 ],
 "metadata": {
  "kernelspec": {
   "display_name": "Python 3 (ipykernel)",
   "language": "python",
   "name": "python3"
  },
  "language_info": {
   "codemirror_mode": {
    "name": "ipython",
    "version": 3
   },
   "file_extension": ".py",
   "mimetype": "text/x-python",
   "name": "python",
   "nbconvert_exporter": "python",
   "pygments_lexer": "ipython3",
   "version": "3.9.7"
  },
  "latex_envs": {
   "LaTeX_envs_menu_present": true,
   "autoclose": false,
   "autocomplete": true,
   "bibliofile": "biblio.bib",
   "cite_by": "apalike",
   "current_citInitial": 1,
   "eqLabelWithNumbers": true,
   "eqNumInitial": 1,
   "hotkeys": {
    "equation": "Ctrl-E",
    "itemize": "Ctrl-I"
   },
   "labels_anchors": false,
   "latex_user_defs": false,
   "report_style_numbering": false,
   "user_envs_cfg": false
  }
 },
 "nbformat": 4,
 "nbformat_minor": 5
}
